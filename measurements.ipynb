{
 "cells": [
  {
   "cell_type": "code",
   "execution_count": 1,
   "metadata": {},
   "outputs": [],
   "source": [
    "import numpy, pandas\n",
    "from sqlalchemy import create_engine\n",
    "\n",
    "dbConn = create_engine('mysql+pymysql://<DBUSER>:<DBPWD>@localhost/epiviz')"
   ]
  },
  {
   "cell_type": "markdown",
   "metadata": {},
   "source": [
    "Database measurements"
   ]
  },
  {
   "cell_type": "code",
   "execution_count": 2,
   "metadata": {},
   "outputs": [
    {
     "data": {
      "text/html": [
       "<div>\n",
       "<style scoped>\n",
       "    .dataframe tbody tr th:only-of-type {\n",
       "        vertical-align: middle;\n",
       "    }\n",
       "\n",
       "    .dataframe tbody tr th {\n",
       "        vertical-align: top;\n",
       "    }\n",
       "\n",
       "    .dataframe thead th {\n",
       "        text-align: right;\n",
       "    }\n",
       "</style>\n",
       "<table border=\"1\" class=\"dataframe\">\n",
       "  <thead>\n",
       "    <tr style=\"text-align: right;\">\n",
       "      <th></th>\n",
       "      <th>chr</th>\n",
       "      <th>cancer</th>\n",
       "      <th>start</th>\n",
       "      <th>end</th>\n",
       "    </tr>\n",
       "  </thead>\n",
       "  <tbody>\n",
       "    <tr>\n",
       "      <th>(30064187, 30064747]</th>\n",
       "      <td>chr11</td>\n",
       "      <td>None</td>\n",
       "      <td>30064187</td>\n",
       "      <td>30064747</td>\n",
       "    </tr>\n",
       "    <tr>\n",
       "      <th>(30064747, 30065307]</th>\n",
       "      <td>chr11</td>\n",
       "      <td>None</td>\n",
       "      <td>30064747</td>\n",
       "      <td>30065307</td>\n",
       "    </tr>\n",
       "    <tr>\n",
       "      <th>(30065307, 30065867]</th>\n",
       "      <td>chr11</td>\n",
       "      <td>None</td>\n",
       "      <td>30065307</td>\n",
       "      <td>30065867</td>\n",
       "    </tr>\n",
       "    <tr>\n",
       "      <th>(30065867, 30066427]</th>\n",
       "      <td>chr11</td>\n",
       "      <td>None</td>\n",
       "      <td>30065867</td>\n",
       "      <td>30066427</td>\n",
       "    </tr>\n",
       "    <tr>\n",
       "      <th>(30066427, 30066987]</th>\n",
       "      <td>chr11</td>\n",
       "      <td>None</td>\n",
       "      <td>30066427</td>\n",
       "      <td>30066987</td>\n",
       "    </tr>\n",
       "  </tbody>\n",
       "</table>\n",
       "</div>"
      ],
      "text/plain": [
       "                        chr cancer     start       end\n",
       "(30064187, 30064747]  chr11   None  30064187  30064747\n",
       "(30064747, 30065307]  chr11   None  30064747  30065307\n",
       "(30065307, 30065867]  chr11   None  30065307  30065867\n",
       "(30065867, 30066427]  chr11   None  30065867  30066427\n",
       "(30066427, 30066987]  chr11   None  30066427  30066987"
      ]
     },
     "execution_count": 2,
     "metadata": {},
     "output_type": "execute_result"
    }
   ],
   "source": [
    "from measurements.measurementClass import DbMeasurement\n",
    "# measuremment name, column name, table name, database name\n",
    "dbm = DbMeasurement(\"db\", \"cancer\", \"cancer\", \"gene_expression\", \"epiviz\", dbConn=dbConn)\n",
    "result, _ = await dbm.get_data(\"chr11\", 30064187, 31184187, bin=True)\n",
    "# result.describe()\n",
    "result.head()"
   ]
  },
  {
   "cell_type": "markdown",
   "metadata": {},
   "source": [
    "File measurements"
   ]
  },
  {
   "cell_type": "code",
   "execution_count": 4,
   "metadata": {},
   "outputs": [
    {
     "data": {
      "text/html": [
       "<div>\n",
       "<style scoped>\n",
       "    .dataframe tbody tr th:only-of-type {\n",
       "        vertical-align: middle;\n",
       "    }\n",
       "\n",
       "    .dataframe tbody tr th {\n",
       "        vertical-align: top;\n",
       "    }\n",
       "\n",
       "    .dataframe thead th {\n",
       "        text-align: right;\n",
       "    }\n",
       "</style>\n",
       "<table border=\"1\" class=\"dataframe\">\n",
       "  <thead>\n",
       "    <tr style=\"text-align: right;\">\n",
       "      <th></th>\n",
       "      <th>chr</th>\n",
       "      <th>start</th>\n",
       "      <th>end</th>\n",
       "      <th>39033</th>\n",
       "    </tr>\n",
       "  </thead>\n",
       "  <tbody>\n",
       "    <tr>\n",
       "      <th>0</th>\n",
       "      <td>chr11</td>\n",
       "      <td>30064128</td>\n",
       "      <td>30064640</td>\n",
       "      <td>0.295742</td>\n",
       "    </tr>\n",
       "    <tr>\n",
       "      <th>1</th>\n",
       "      <td>chr11</td>\n",
       "      <td>30064640</td>\n",
       "      <td>30065152</td>\n",
       "      <td>0.283360</td>\n",
       "    </tr>\n",
       "    <tr>\n",
       "      <th>2</th>\n",
       "      <td>chr11</td>\n",
       "      <td>30065152</td>\n",
       "      <td>30065664</td>\n",
       "      <td>0.578460</td>\n",
       "    </tr>\n",
       "    <tr>\n",
       "      <th>3</th>\n",
       "      <td>chr11</td>\n",
       "      <td>30065664</td>\n",
       "      <td>30066176</td>\n",
       "      <td>0.458707</td>\n",
       "    </tr>\n",
       "    <tr>\n",
       "      <th>4</th>\n",
       "      <td>chr11</td>\n",
       "      <td>30066176</td>\n",
       "      <td>30066688</td>\n",
       "      <td>0.427106</td>\n",
       "    </tr>\n",
       "  </tbody>\n",
       "</table>\n",
       "</div>"
      ],
      "text/plain": [
       "     chr     start       end     39033\n",
       "0  chr11  30064128  30064640  0.295742\n",
       "1  chr11  30064640  30065152  0.283360\n",
       "2  chr11  30065152  30065664  0.578460\n",
       "3  chr11  30065664  30066176  0.458707\n",
       "4  chr11  30066176  30066688  0.427106"
      ]
     },
     "execution_count": 4,
     "metadata": {},
     "output_type": "execute_result"
    }
   ],
   "source": [
    "from measurements.measurementClass import FileMeasurement\n",
    "# file type, file id, file name, file source\n",
    "filem = FileMeasurement(\"bigwig\", \"39033\", \"39033\", \"http://obj.umiacs.umd.edu/bigwig-files/39033.bigwig\")\n",
    "# result, _ = filem.get_data('chr8', 115443360, 115443460)\n",
    "result, _ = await filem.get_data(\"chr11\", 30064187, 31184187)\n",
    "# result.describe()\n",
    "result.head()"
   ]
  },
  {
   "cell_type": "markdown",
   "metadata": {},
   "source": [
    "Computed measurements"
   ]
  },
  {
   "cell_type": "code",
   "execution_count": 7,
   "metadata": {},
   "outputs": [
    {
     "data": {
      "text/html": [
       "<div>\n",
       "<style scoped>\n",
       "    .dataframe tbody tr th:only-of-type {\n",
       "        vertical-align: middle;\n",
       "    }\n",
       "\n",
       "    .dataframe tbody tr th {\n",
       "        vertical-align: top;\n",
       "    }\n",
       "\n",
       "    .dataframe thead th {\n",
       "        text-align: right;\n",
       "    }\n",
       "</style>\n",
       "<table border=\"1\" class=\"dataframe\">\n",
       "  <thead>\n",
       "    <tr style=\"text-align: right;\">\n",
       "      <th></th>\n",
       "      <th>chr</th>\n",
       "      <th>cancer</th>\n",
       "      <th>start</th>\n",
       "      <th>end</th>\n",
       "      <th>39033</th>\n",
       "      <th>test_compute</th>\n",
       "    </tr>\n",
       "  </thead>\n",
       "  <tbody>\n",
       "    <tr>\n",
       "      <th>(30252347, 30252907]</th>\n",
       "      <td>chr11</td>\n",
       "      <td>-0.0877129</td>\n",
       "      <td>30252347</td>\n",
       "      <td>30252907</td>\n",
       "      <td>0.291873</td>\n",
       "      <td>0.204160</td>\n",
       "    </tr>\n",
       "    <tr>\n",
       "      <th>(30252907, 30253467]</th>\n",
       "      <td>chr11</td>\n",
       "      <td>-0.0877129</td>\n",
       "      <td>30252907</td>\n",
       "      <td>30253467</td>\n",
       "      <td>0.216159</td>\n",
       "      <td>0.128446</td>\n",
       "    </tr>\n",
       "    <tr>\n",
       "      <th>(30253467, 30254027]</th>\n",
       "      <td>chr11</td>\n",
       "      <td>-0.0877129</td>\n",
       "      <td>30253467</td>\n",
       "      <td>30254027</td>\n",
       "      <td>0.165066</td>\n",
       "      <td>0.077353</td>\n",
       "    </tr>\n",
       "    <tr>\n",
       "      <th>(30254027, 30254587]</th>\n",
       "      <td>chr11</td>\n",
       "      <td>-0.0877129</td>\n",
       "      <td>30254027</td>\n",
       "      <td>30254587</td>\n",
       "      <td>0.22556</td>\n",
       "      <td>0.137847</td>\n",
       "    </tr>\n",
       "    <tr>\n",
       "      <th>(30254587, 30255147]</th>\n",
       "      <td>chr11</td>\n",
       "      <td>-0.0877129</td>\n",
       "      <td>30254587</td>\n",
       "      <td>30255147</td>\n",
       "      <td>0.632859</td>\n",
       "      <td>0.545146</td>\n",
       "    </tr>\n",
       "  </tbody>\n",
       "</table>\n",
       "</div>"
      ],
      "text/plain": [
       "                        chr     cancer     start       end     39033  \\\n",
       "(30252347, 30252907]  chr11 -0.0877129  30252347  30252907  0.291873   \n",
       "(30252907, 30253467]  chr11 -0.0877129  30252907  30253467  0.216159   \n",
       "(30253467, 30254027]  chr11 -0.0877129  30253467  30254027  0.165066   \n",
       "(30254027, 30254587]  chr11 -0.0877129  30254027  30254587   0.22556   \n",
       "(30254587, 30255147]  chr11 -0.0877129  30254587  30255147  0.632859   \n",
       "\n",
       "                      test_compute  \n",
       "(30252347, 30252907]      0.204160  \n",
       "(30252907, 30253467]      0.128446  \n",
       "(30253467, 30254027]      0.077353  \n",
       "(30254027, 30254587]      0.137847  \n",
       "(30254587, 30255147]      0.545146  "
      ]
     },
     "execution_count": 7,
     "metadata": {},
     "output_type": "execute_result"
    }
   ],
   "source": [
    "from measurements.measurementClass import ComputedMeasurement\n",
    "computem = ComputedMeasurement(\"computed\", \"test_compute\", \"compute avg\", measurements=[dbm, filem], computeFunc=numpy.sum)\n",
    "\n",
    "result,_ = await computem.get_data(\"chr11\", 30064187, 31184187)\n",
    "result.head()"
   ]
  },
  {
   "cell_type": "code",
   "execution_count": null,
   "metadata": {},
   "outputs": [],
   "source": []
  },
  {
   "cell_type": "code",
   "execution_count": null,
   "metadata": {},
   "outputs": [],
   "source": []
  }
 ],
 "metadata": {
  "kernelspec": {
   "display_name": "Python 3",
   "language": "python",
   "name": "python3"
  },
  "language_info": {
   "codemirror_mode": {
    "name": "ipython",
    "version": 3
   },
   "file_extension": ".py",
   "mimetype": "text/x-python",
   "name": "python",
   "nbconvert_exporter": "python",
   "pygments_lexer": "ipython3",
   "version": "3.7.1"
  }
 },
 "nbformat": 4,
 "nbformat_minor": 2
}
