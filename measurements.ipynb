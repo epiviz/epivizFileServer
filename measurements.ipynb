{
 "cells": [
  {
   "cell_type": "code",
   "execution_count": null,
   "metadata": {},
   "outputs": [],
   "source": [
    "import numpy, pandas\n",
    "from sqlalchemy import create_engine\n",
    "\n",
    "dbConn = create_engine('mysql+pymysql://root:<DBPASSWORD>@localhost/epiviz')"
   ]
  },
  {
   "cell_type": "markdown",
   "metadata": {},
   "source": [
    "Database measurements"
   ]
  },
  {
   "cell_type": "code",
   "execution_count": null,
   "metadata": {},
   "outputs": [],
   "source": [
    "from measurements.measurementClass import DbMeasurement\n",
    "# measuremment name, column name, table name, database name\n",
    "dbm = DbMeasurement(\"db\", \"cancer\", \"cancer\", \"gene_expression\", \"epiviz\", dbConn=dbConn)\n",
    "result, _ = dbm.get_data(\"chr11\", 30064187, 31184187)\n",
    "result.describe()\n",
    "# result.head()"
   ]
  },
  {
   "cell_type": "markdown",
   "metadata": {},
   "source": [
    "File measurements"
   ]
  },
  {
   "cell_type": "code",
   "execution_count": null,
   "metadata": {},
   "outputs": [],
   "source": [
    "from measurements.measurementClass import FileMeasurement\n",
    "# file type, file id, file name, file source\n",
    "filem = FileMeasurement(\"bigwig\", \"39033\", \"39033\", \"http://obj.umiacs.umd.edu/bigwig-files/39033.bigwig\")\n",
    "# result, _ = filem.get_data('chr8', 115443360, 115443460)\n",
    "result, _ = filem.get_data(\"chr11\", 30064187, 31184187)\n",
    "result.describe()"
   ]
  },
  {
   "cell_type": "markdown",
   "metadata": {},
   "source": [
    "Computed measurements"
   ]
  },
  {
   "cell_type": "code",
   "execution_count": null,
   "metadata": {},
   "outputs": [],
   "source": [
    "from measurements.measurementClass import ComputedMeasurement\n",
    "computem = ComputedMeasurement(\"computed\", \"test_compute\", \"compute avg\", measurements=[dbm, filem], computeFunc=numpy.sum)\n",
    "\n",
    "result, _ = computem.get_data(\"chr11\", 30064187, 31184187)\n",
    "result"
   ]
  }
 ],
 "metadata": {
  "kernelspec": {
   "display_name": "Python 3",
   "language": "python",
   "name": "python3"
  },
  "language_info": {
   "codemirror_mode": {
    "name": "ipython",
    "version": 3
   },
   "file_extension": ".py",
   "mimetype": "text/x-python",
   "name": "python",
   "nbconvert_exporter": "python",
   "pygments_lexer": "ipython3",
   "version": "3.7.1"
  }
 },
 "nbformat": 4,
 "nbformat_minor": 2
}
