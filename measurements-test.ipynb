{
 "cells": [
  {
   "cell_type": "code",
   "execution_count": null,
   "metadata": {},
   "outputs": [],
   "source": [
    "import numpy, pandas\n",
    "from sqlalchemy import create_engine\n",
    "\n",
    "dbConn = create_engine('mysql+pymysql://root:<DBPASSWORD>@localhost/epiviz')"
   ]
  },
  {
   "cell_type": "markdown",
   "metadata": {},
   "source": [
    "Database measurements"
   ]
  },
  {
   "cell_type": "code",
   "execution_count": null,
   "metadata": {},
   "outputs": [],
   "source": [
    "from measurements.measurementClass import DbMeasurement\n",
    "# measuremment name, column name, table name, database name\n",
    "dbm = DbMeasurement(\"db\", \"cancer\", \"cancer\", \"gene_expression\", \"epiviz\", dbConn=dbConn)\n",
    "result, _ = dbm.get_data(\"chr11\", 30064187, 31184187)\n",
    "result.describe()\n",
    "# result.head()"
   ]
  },
  {
   "cell_type": "code",
   "execution_count": null,
   "metadata": {},
   "outputs": [],
   "source": [
    "## bin rows\n",
    "\n",
    "start = 30064187\n",
    "end = 31184187\n",
    "chr = 'chr11'\n",
    "length = 2000\n",
    "columns = ['chr', 'cancer']\n",
    "\n",
    "# print(\"start-end = %s\" %(end-start))\n",
    "\n",
    "freq = round((end-start)/length)\n",
    "if end - start < length:\n",
    "    freq = 1\n",
    "    \n",
    "# print(\"freq = %s\" % (freq))\n",
    "    \n",
    "data = result\n",
    "\n",
    "data = data.set_index(['start', 'end'])\n",
    "data.index = pandas.IntervalIndex.from_tuples(data.index)\n",
    "\n",
    "bins = pandas.interval_range(start=start, end=end, freq=freq)\n",
    "# print(bins)\n",
    "bins_df = pandas.DataFrame(index=bins)\n",
    "bins_df[\"chr\"] = chr\n",
    "# if self.metadata:\n",
    "#     for meta in metadata:\n",
    "#         bins_df[meta] = data[meta]\n",
    "\n",
    "# print(bins_df)\n",
    "\n",
    "for col in columns:\n",
    "    bins_df[col] = None\n",
    "\n",
    "# print(bins_df)\n",
    "\n",
    "# map data to bins\n",
    "for index, row in data.iterrows():\n",
    "#     print(row)\n",
    "#     print(index)\n",
    "    # subset mapped rows\n",
    "    for col in columns:\n",
    "#         print(bins_df.loc[index])\n",
    "        bins_df.loc[index, col] = row[col]\n",
    "\n",
    "bins_df[\"start\"] = bins_df.index.left\n",
    "bins_df[\"end\"] = bins_df.index.right\n",
    "    \n",
    "bins_df.describe()\n",
    "    \n",
    "    \n",
    "# for col in ['cancer']:\n",
    "#     print(data[col])\n",
    "#     bins_df[col] = bins_df.index.map(data[col])\n"
   ]
  },
  {
   "cell_type": "code",
   "execution_count": null,
   "metadata": {},
   "outputs": [],
   "source": [
    "test = bins_df.loc[[x for x in data.index]]\n",
    "len(test)"
   ]
  },
  {
   "cell_type": "markdown",
   "metadata": {},
   "source": [
    "File measurements"
   ]
  },
  {
   "cell_type": "code",
   "execution_count": null,
   "metadata": {},
   "outputs": [],
   "source": [
    "from measurements.measurementClass import FileMeasurement\n",
    "# file type, file id, file name, file source\n",
    "filem = FileMeasurement(\"bigwig\", \"39033\", \"39033\", \"http://obj.umiacs.umd.edu/bigwig-files/39033.bigwig\")\n",
    "# result, _ = filem.get_data('chr8', 115443360, 115443460)\n",
    "result, _ = filem.get_data(\"chr11\", 30064187, 31184187)\n",
    "result.describe()"
   ]
  },
  {
   "cell_type": "code",
   "execution_count": null,
   "metadata": {},
   "outputs": [],
   "source": [
    "from measurements.measurementClass import ComputedMeasurement\n",
    "computem = ComputedMeasurement(\"computed\", \"test_compute\", \"compute avg\", measurements=[dbm, filem], computeFunc=numpy.sum)\n",
    "\n",
    "result, _ = computem.get_data(\"chr11\", 30064187, 31184187)\n",
    "result"
   ]
  },
  {
   "cell_type": "code",
   "execution_count": null,
   "metadata": {},
   "outputs": [],
   "source": [
    "from measurements.measurementClass import ComputedMeasurement\n",
    "computem = ComputedMeasurement(\"computed\", \"test_compute\", \"compute avg\", measurements=[dbm, filem], computeFunc=numpy.sum)\n",
    "# result, _ = computem.get_data(\"chr11\", 30064187, 31184187)\n",
    "\n",
    "chr = \"chr11\"\n",
    "start = 30064187\n",
    "end = 31184187\n",
    "measurements=[dbm, filem]\n",
    "computeFunc = numpy.sum\n",
    "columns = [\"cancer\", \"39033\"]\n",
    "\n",
    "result = []\n",
    "for measurement in measurements:\n",
    "    mea_result, _ = measurement.get_data(chr, start, end, bin=True)\n",
    "#     print(mea_result)\n",
    "    # result = [result, mea_result]\n",
    "    result.append(mea_result)\n",
    "    \n",
    "result = pandas.concat(result, axis=1)\n",
    "result = result.loc[:,~result.columns.duplicated()]\n",
    "# print(result.describe())\n",
    "# print(result[\"cancer\"].describe())\n",
    "# print(result[\"39033\"].describe())\n",
    "# print(result.dropna())\n",
    "\n",
    "def computeWrapper(computeFunc, columns):\n",
    "    def computeApply(row):\n",
    "#         print(row)\n",
    "        rowVals = []\n",
    "        for k in row.keys():\n",
    "            if k in columns:\n",
    "                rowVals.append(row[k])\n",
    "#         print(rowVals)\n",
    "        if None in rowVals:\n",
    "            return None\n",
    "        return computeFunc(rowVals)\n",
    "    return computeApply\n",
    "    \n",
    "result = result.dropna()\n",
    "result[\"compute\"] = result.apply(computeWrapper(computeFunc, columns), axis=1)\n",
    "result"
   ]
  },
  {
   "cell_type": "code",
   "execution_count": null,
   "metadata": {},
   "outputs": [],
   "source": [
    "def compute(measurements, chr, start, end, fun=None):\n",
    "    mresults = []\n",
    "    for mc in measurements:\n",
    "        mresults.append(mc.get_data(chr, start, end))\n",
    "    return mresults"
   ]
  },
  {
   "cell_type": "markdown",
   "metadata": {},
   "source": [
    "Computed measurements"
   ]
  },
  {
   "cell_type": "code",
   "execution_count": null,
   "metadata": {},
   "outputs": [],
   "source": [
    "# measurements = [(\"db\", \"cancer\", \"cancer\", \"gene_expression\", \"epiviz\"), (\"bigwig\", \"39033\", \"39033\", \"http://obj.umiacs.umd.edu/bigwig-files/39033.bigwig\")]\n",
    "# cm = mc.ComputedMeasurement(measurements,fun=numpy.mean)\n",
    "\n",
    "# from measurements.measurementClass import compute\n",
    "measurements = [filem, dbm]\n",
    "\n",
    "compute(measurements, \"chr11\", 30064187, 31184187, fun=numpy.mean)\n"
   ]
  },
  {
   "cell_type": "code",
   "execution_count": null,
   "metadata": {},
   "outputs": [],
   "source": []
  }
 ],
 "metadata": {
  "kernelspec": {
   "display_name": "Python 3",
   "language": "python",
   "name": "python3"
  },
  "language_info": {
   "codemirror_mode": {
    "name": "ipython",
    "version": 3
   },
   "file_extension": ".py",
   "mimetype": "text/x-python",
   "name": "python",
   "nbconvert_exporter": "python",
   "pygments_lexer": "ipython3",
   "version": "3.7.1"
  }
 },
 "nbformat": 4,
 "nbformat_minor": 2
}
